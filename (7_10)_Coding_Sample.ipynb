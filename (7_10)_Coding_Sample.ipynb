{
  "nbformat": 4,
  "nbformat_minor": 0,
  "metadata": {
    "colab": {
      "provenance": [],
      "include_colab_link": true
    },
    "kernelspec": {
      "name": "python3",
      "display_name": "Python 3"
    },
    "language_info": {
      "name": "python"
    }
  },
  "cells": [
    {
      "cell_type": "markdown",
      "metadata": {
        "id": "view-in-github",
        "colab_type": "text"
      },
      "source": [
        "<a href=\"https://colab.research.google.com/github/msomotese/TKHRepo/blob/main/(7_10)_Coding_Sample.ipynb\" target=\"_parent\"><img src=\"https://colab.research.google.com/assets/colab-badge.svg\" alt=\"Open In Colab\"/></a>"
      ]
    },
    {
      "cell_type": "markdown",
      "source": [
        "Import Module"
      ],
      "metadata": {
        "id": "NQIxRI91acE7"
      }
    },
    {
      "cell_type": "code",
      "execution_count": null,
      "metadata": {
        "id": "nYR4Xi81aavU"
      },
      "outputs": [],
      "source": [
        "#Basic Import Syntax\n",
        "\n",
        "import math\n",
        "\n",
        "#Using the Imported Module:\n",
        "result = math.sqrt(25)\n",
        "print(result)"
      ]
    },
    {
      "cell_type": "markdown",
      "source": [
        "Importing Aliases"
      ],
      "metadata": {
        "id": "Q5ZVF_Z6gpaQ"
      }
    },
    {
      "cell_type": "code",
      "source": [
        "#Syntax: import module_name as alias\n",
        "\n",
        "#Example\n",
        "import math as m\n",
        "\n",
        "#Using Alias\n",
        "result = m.pow(2, 3)  # Using pow function from math with the alias m\n",
        "print(result)"
      ],
      "metadata": {
        "id": "bqWb404AgrMu"
      },
      "execution_count": null,
      "outputs": []
    },
    {
      "cell_type": "markdown",
      "source": [
        "Example Importing from the 'math' Module"
      ],
      "metadata": {
        "id": "i_dVq7WYg8JC"
      }
    },
    {
      "cell_type": "code",
      "source": [
        "#math.sqrt(x): Returns the square root of x.\n",
        "#math.pow(x, y): Returns x raised to the power y.\n",
        "#math.pi: The constant π.\n",
        "\n",
        "area = math.pi * math.pow(5, 2)\n",
        "print(area)"
      ],
      "metadata": {
        "id": "dNG2sOFKhAS4"
      },
      "execution_count": null,
      "outputs": []
    },
    {
      "cell_type": "markdown",
      "source": [
        "Example Importing from the 'string' Module"
      ],
      "metadata": {
        "id": "7WR0AzbAhN1f"
      }
    },
    {
      "cell_type": "code",
      "source": [
        "# string.ascii_lowercase: Returns a string of lowercase letters.\n",
        "# string.ascii_uppercase: Returns a string of uppercase letters.\n",
        "# string.digits: Returns a string of decimal digits.\n",
        "\n",
        "import string\n",
        "\n",
        "print(string.ascii_lowercase)\n",
        "print(string.digits)"
      ],
      "metadata": {
        "id": "RTeb3QQ9hIXg"
      },
      "execution_count": null,
      "outputs": []
    },
    {
      "cell_type": "markdown",
      "source": [
        "\n",
        "\n",
        "\n",
        "\n",
        "\n",
        "String Operations"
      ],
      "metadata": {
        "id": "VpyFXDAQkU2D"
      }
    },
    {
      "cell_type": "code",
      "source": [
        "#Escape Characters\n",
        "\n",
        "print(\"Hello,\\nWorld!\")"
      ],
      "metadata": {
        "id": "lCCBwOrikXJ-",
        "colab": {
          "base_uri": "https://localhost:8080/"
        },
        "outputId": "cc7b7105-09b6-4114-9eb2-2405a2fd2052"
      },
      "execution_count": null,
      "outputs": [
        {
          "output_type": "stream",
          "name": "stdout",
          "text": [
            "Hello,\n",
            "World!\n"
          ]
        }
      ]
    },
    {
      "cell_type": "code",
      "source": [
        "#Triple Quoted Strings\n",
        "\n",
        "'This is a comment'\n",
        "\"This is a comment\"\n",
        "\n",
        "multi_line_string = \"\"\"\n",
        "This is a multi-line string.\n",
        "It spans multiple lines.\n",
        "\"\"\"\n",
        "print(multi_line_string)"
      ],
      "metadata": {
        "id": "39oiq0V-ktp0",
        "colab": {
          "base_uri": "https://localhost:8080/"
        },
        "outputId": "237e6339-a478-434b-b41c-a24ae0ab9087"
      },
      "execution_count": null,
      "outputs": [
        {
          "output_type": "stream",
          "name": "stdout",
          "text": [
            "\n",
            "This is a multi-line string.\n",
            "It spans multiple lines.\n",
            "\n"
          ]
        }
      ]
    },
    {
      "cell_type": "code",
      "source": [
        "#Addition\n",
        "\n",
        "greeting = \"Hello, \" + \"World!\"\n",
        "print(greeting)"
      ],
      "metadata": {
        "id": "ulinjcERlZdh",
        "colab": {
          "base_uri": "https://localhost:8080/"
        },
        "outputId": "a0bc0f63-2616-49fe-8325-0fdf34ea7e0e"
      },
      "execution_count": null,
      "outputs": [
        {
          "output_type": "stream",
          "name": "stdout",
          "text": [
            "Hello, World!\n"
          ]
        }
      ]
    },
    {
      "cell_type": "code",
      "source": [
        "# Comparisons\n",
        "\n",
        "print(\"apple\" == \"apple\")\n",
        "print(\"apple\" < \"banana\")"
      ],
      "metadata": {
        "id": "hAwrjTcClcwH",
        "colab": {
          "base_uri": "https://localhost:8080/"
        },
        "outputId": "f1ca0f1e-9740-4d2f-e2db-0f419dca2481"
      },
      "execution_count": null,
      "outputs": [
        {
          "output_type": "stream",
          "name": "stdout",
          "text": [
            "True\n",
            "True\n"
          ]
        }
      ]
    },
    {
      "cell_type": "code",
      "source": [
        "#Membership\n",
        "\n",
        "phrase = \"The quick brown fox\"\n",
        "print(\"quick\" in phrase)\n",
        "print(\"slow\" not in phrase)"
      ],
      "metadata": {
        "id": "12fujN7mllNk",
        "colab": {
          "base_uri": "https://localhost:8080/"
        },
        "outputId": "95d4a60e-aa54-423c-b1d9-51e9f654b35c"
      },
      "execution_count": null,
      "outputs": [
        {
          "output_type": "stream",
          "name": "stdout",
          "text": [
            "True\n",
            "True\n"
          ]
        }
      ]
    },
    {
      "cell_type": "code",
      "source": [
        "#Putting all together\n",
        "\n",
        "text = \"Hello, World!\"\n",
        "print(text)\n",
        "print(text[7:12])\n",
        "print(\"Python\" in text)\n",
        "print(text + \" How are you?\")"
      ],
      "metadata": {
        "id": "fNyzfButocAi",
        "colab": {
          "base_uri": "https://localhost:8080/"
        },
        "outputId": "b8160899-93d4-49c5-c650-96261230feda"
      },
      "execution_count": null,
      "outputs": [
        {
          "output_type": "stream",
          "name": "stdout",
          "text": [
            "Hello, World!\n",
            "World\n",
            "False\n",
            "Hello, World! How are you?\n"
          ]
        }
      ]
    },
    {
      "cell_type": "markdown",
      "source": [
        "<h1> Type of errors"
      ],
      "metadata": {
        "id": "AQTtuVrk7_IB"
      }
    },
    {
      "cell_type": "code",
      "source": [
        "#Nameerror\n",
        "\n",
        "print(xyz)"
      ],
      "metadata": {
        "colab": {
          "base_uri": "https://localhost:8080/",
          "height": 176
        },
        "id": "6UCtOpEs8Cx3",
        "outputId": "11d8e0b7-6e69-43c0-8987-12e98465602b"
      },
      "execution_count": null,
      "outputs": [
        {
          "output_type": "error",
          "ename": "NameError",
          "evalue": "name 'xyz' is not defined",
          "traceback": [
            "\u001b[0;31m---------------------------------------------------------------------------\u001b[0m",
            "\u001b[0;31mNameError\u001b[0m                                 Traceback (most recent call last)",
            "\u001b[0;32m<ipython-input-1-5d614610faea>\u001b[0m in \u001b[0;36m<cell line: 3>\u001b[0;34m()\u001b[0m\n\u001b[1;32m      1\u001b[0m \u001b[0;31m#Nameerror\u001b[0m\u001b[0;34m\u001b[0m\u001b[0;34m\u001b[0m\u001b[0m\n\u001b[1;32m      2\u001b[0m \u001b[0;34m\u001b[0m\u001b[0m\n\u001b[0;32m----> 3\u001b[0;31m \u001b[0mprint\u001b[0m\u001b[0;34m(\u001b[0m\u001b[0mxyz\u001b[0m\u001b[0;34m)\u001b[0m\u001b[0;34m\u001b[0m\u001b[0;34m\u001b[0m\u001b[0m\n\u001b[0m",
            "\u001b[0;31mNameError\u001b[0m: name 'xyz' is not defined"
          ]
        }
      ]
    },
    {
      "cell_type": "code",
      "source": [
        "#Importerror\n",
        "\n",
        "import non_existent_module"
      ],
      "metadata": {
        "colab": {
          "base_uri": "https://localhost:8080/",
          "height": 349
        },
        "id": "RD7wN_Hs8Kvx",
        "outputId": "bb9be11b-e1ae-41fe-8014-175fe3db797f"
      },
      "execution_count": null,
      "outputs": [
        {
          "output_type": "error",
          "ename": "ModuleNotFoundError",
          "evalue": "No module named 'non_existent_module'",
          "traceback": [
            "\u001b[0;31m---------------------------------------------------------------------------\u001b[0m",
            "\u001b[0;31mModuleNotFoundError\u001b[0m                       Traceback (most recent call last)",
            "\u001b[0;32m<ipython-input-3-ce9554b3793a>\u001b[0m in \u001b[0;36m<cell line: 3>\u001b[0;34m()\u001b[0m\n\u001b[1;32m      1\u001b[0m \u001b[0;31m#Importerror\u001b[0m\u001b[0;34m\u001b[0m\u001b[0;34m\u001b[0m\u001b[0m\n\u001b[1;32m      2\u001b[0m \u001b[0;34m\u001b[0m\u001b[0m\n\u001b[0;32m----> 3\u001b[0;31m \u001b[0;32mimport\u001b[0m \u001b[0mnon_existent_module\u001b[0m\u001b[0;34m\u001b[0m\u001b[0;34m\u001b[0m\u001b[0m\n\u001b[0m",
            "\u001b[0;31mModuleNotFoundError\u001b[0m: No module named 'non_existent_module'",
            "",
            "\u001b[0;31m---------------------------------------------------------------------------\u001b[0;32m\nNOTE: If your import is failing due to a missing package, you can\nmanually install dependencies using either !pip or !apt.\n\nTo view examples of installing some common dependencies, click the\n\"Open Examples\" button below.\n\u001b[0;31m---------------------------------------------------------------------------\u001b[0m\n"
          ],
          "errorDetails": {
            "actions": [
              {
                "action": "open_url",
                "actionText": "Open Examples",
                "url": "/notebooks/snippets/importing_libraries.ipynb"
              }
            ]
          }
        }
      ]
    },
    {
      "cell_type": "code",
      "source": [
        "#ValueError\n",
        "\n",
        "int(\"abc\")"
      ],
      "metadata": {
        "colab": {
          "base_uri": "https://localhost:8080/",
          "height": 176
        },
        "id": "ER4z2I5b9gGA",
        "outputId": "d87f5c40-f60e-4f9a-e66d-f22c4b529bb7"
      },
      "execution_count": null,
      "outputs": [
        {
          "output_type": "error",
          "ename": "ValueError",
          "evalue": "invalid literal for int() with base 10: 'abc'",
          "traceback": [
            "\u001b[0;31m---------------------------------------------------------------------------\u001b[0m",
            "\u001b[0;31mValueError\u001b[0m                                Traceback (most recent call last)",
            "\u001b[0;32m<ipython-input-4-e0188a0c454d>\u001b[0m in \u001b[0;36m<cell line: 3>\u001b[0;34m()\u001b[0m\n\u001b[1;32m      1\u001b[0m \u001b[0;31m#ValueError\u001b[0m\u001b[0;34m\u001b[0m\u001b[0;34m\u001b[0m\u001b[0m\n\u001b[1;32m      2\u001b[0m \u001b[0;34m\u001b[0m\u001b[0m\n\u001b[0;32m----> 3\u001b[0;31m \u001b[0mint\u001b[0m\u001b[0;34m(\u001b[0m\u001b[0;34m\"abc\"\u001b[0m\u001b[0;34m)\u001b[0m\u001b[0;34m\u001b[0m\u001b[0;34m\u001b[0m\u001b[0m\n\u001b[0m",
            "\u001b[0;31mValueError\u001b[0m: invalid literal for int() with base 10: 'abc'"
          ]
        }
      ]
    },
    {
      "cell_type": "code",
      "source": [
        "#TypeError\n",
        "math.sqrt(\"abc\")\n",
        "len(5)"
      ],
      "metadata": {
        "colab": {
          "base_uri": "https://localhost:8080/",
          "height": 176
        },
        "id": "4v9NzxE5-XwR",
        "outputId": "30cbfe2e-2f01-45b9-83cd-ea0de1135496"
      },
      "execution_count": null,
      "outputs": [
        {
          "output_type": "error",
          "ename": "TypeError",
          "evalue": "must be real number, not str",
          "traceback": [
            "\u001b[0;31m---------------------------------------------------------------------------\u001b[0m",
            "\u001b[0;31mTypeError\u001b[0m                                 Traceback (most recent call last)",
            "\u001b[0;32m<ipython-input-38-be829ea3d4fd>\u001b[0m in \u001b[0;36m<cell line: 2>\u001b[0;34m()\u001b[0m\n\u001b[1;32m      1\u001b[0m \u001b[0;31m#TypeError\u001b[0m\u001b[0;34m\u001b[0m\u001b[0;34m\u001b[0m\u001b[0m\n\u001b[0;32m----> 2\u001b[0;31m \u001b[0mmath\u001b[0m\u001b[0;34m.\u001b[0m\u001b[0msqrt\u001b[0m\u001b[0;34m(\u001b[0m\u001b[0;34m\"abc\"\u001b[0m\u001b[0;34m)\u001b[0m\u001b[0;34m\u001b[0m\u001b[0;34m\u001b[0m\u001b[0m\n\u001b[0m\u001b[1;32m      3\u001b[0m \u001b[0mlen\u001b[0m\u001b[0;34m(\u001b[0m\u001b[0;36m5\u001b[0m\u001b[0;34m)\u001b[0m\u001b[0;34m\u001b[0m\u001b[0;34m\u001b[0m\u001b[0m\n",
            "\u001b[0;31mTypeError\u001b[0m: must be real number, not str"
          ]
        }
      ]
    },
    {
      "cell_type": "code",
      "source": [
        "#UnboundLocalError\n",
        "\n",
        "def example_function():\n",
        "    print(a)\n",
        "    a = 10\n",
        "\n",
        "example_function()"
      ],
      "metadata": {
        "colab": {
          "base_uri": "https://localhost:8080/",
          "height": 297
        },
        "id": "RsXJ-x8a-97T",
        "outputId": "e6e3544e-ac02-4375-80e3-ab7d94714988"
      },
      "execution_count": null,
      "outputs": [
        {
          "output_type": "error",
          "ename": "UnboundLocalError",
          "evalue": "local variable 'a' referenced before assignment",
          "traceback": [
            "\u001b[0;31m---------------------------------------------------------------------------\u001b[0m",
            "\u001b[0;31mUnboundLocalError\u001b[0m                         Traceback (most recent call last)",
            "\u001b[0;32m<ipython-input-6-f4698e8f552f>\u001b[0m in \u001b[0;36m<cell line: 6>\u001b[0;34m()\u001b[0m\n\u001b[1;32m      4\u001b[0m     \u001b[0mprint\u001b[0m\u001b[0;34m(\u001b[0m\u001b[0ma\u001b[0m\u001b[0;34m)\u001b[0m\u001b[0;34m\u001b[0m\u001b[0;34m\u001b[0m\u001b[0m\n\u001b[1;32m      5\u001b[0m     \u001b[0ma\u001b[0m \u001b[0;34m=\u001b[0m \u001b[0;36m10\u001b[0m\u001b[0;34m\u001b[0m\u001b[0;34m\u001b[0m\u001b[0m\n\u001b[0;32m----> 6\u001b[0;31m \u001b[0mexample_function\u001b[0m\u001b[0;34m(\u001b[0m\u001b[0;34m)\u001b[0m\u001b[0;34m\u001b[0m\u001b[0;34m\u001b[0m\u001b[0m\n\u001b[0m",
            "\u001b[0;32m<ipython-input-6-f4698e8f552f>\u001b[0m in \u001b[0;36mexample_function\u001b[0;34m()\u001b[0m\n\u001b[1;32m      2\u001b[0m \u001b[0;34m\u001b[0m\u001b[0m\n\u001b[1;32m      3\u001b[0m \u001b[0;32mdef\u001b[0m \u001b[0mexample_function\u001b[0m\u001b[0;34m(\u001b[0m\u001b[0;34m)\u001b[0m\u001b[0;34m:\u001b[0m\u001b[0;34m\u001b[0m\u001b[0;34m\u001b[0m\u001b[0m\n\u001b[0;32m----> 4\u001b[0;31m     \u001b[0mprint\u001b[0m\u001b[0;34m(\u001b[0m\u001b[0ma\u001b[0m\u001b[0;34m)\u001b[0m\u001b[0;34m\u001b[0m\u001b[0;34m\u001b[0m\u001b[0m\n\u001b[0m\u001b[1;32m      5\u001b[0m     \u001b[0ma\u001b[0m \u001b[0;34m=\u001b[0m \u001b[0;36m10\u001b[0m\u001b[0;34m\u001b[0m\u001b[0;34m\u001b[0m\u001b[0m\n\u001b[1;32m      6\u001b[0m \u001b[0mexample_function\u001b[0m\u001b[0;34m(\u001b[0m\u001b[0;34m)\u001b[0m\u001b[0;34m\u001b[0m\u001b[0;34m\u001b[0m\u001b[0m\n",
            "\u001b[0;31mUnboundLocalError\u001b[0m: local variable 'a' referenced before assignment"
          ]
        }
      ]
    },
    {
      "cell_type": "markdown",
      "source": [
        "Try and Except"
      ],
      "metadata": {
        "id": "S-8EX5bN_izn"
      }
    },
    {
      "cell_type": "code",
      "source": [
        "try:\n",
        "    result = int(\"abc\")\n",
        "except ValueError as e:\n",
        "    print(f\"Caught an error: {e}\")\n"
      ],
      "metadata": {
        "id": "hj6Aed2Y_iCO",
        "colab": {
          "base_uri": "https://localhost:8080/"
        },
        "outputId": "7544ec27-1928-4757-bc3c-5a89d4603e9b"
      },
      "execution_count": null,
      "outputs": [
        {
          "output_type": "stream",
          "name": "stdout",
          "text": [
            "Caught an error: invalid literal for int() with base 10: 'abc'\n"
          ]
        }
      ]
    },
    {
      "cell_type": "code",
      "source": [
        "#NameError Practical Example\n",
        "try:\n",
        "    print(x)\n",
        "except NameError:\n",
        "    print(\"Variable x is not defined\")\n"
      ],
      "metadata": {
        "id": "qxVU2NYe_pf7",
        "colab": {
          "base_uri": "https://localhost:8080/"
        },
        "outputId": "d29ab35b-7f26-4653-8e92-5ec90853981f"
      },
      "execution_count": null,
      "outputs": [
        {
          "output_type": "stream",
          "name": "stdout",
          "text": [
            "Variable x is not defined\n"
          ]
        }
      ]
    },
    {
      "cell_type": "code",
      "source": [
        "#ImportError Practical Example\n",
        "try:\n",
        "    import non_existent_module\n",
        "except ImportError:\n",
        "    print(\"Module not found\")"
      ],
      "metadata": {
        "id": "L-mTNFv0_tgk",
        "colab": {
          "base_uri": "https://localhost:8080/"
        },
        "outputId": "310984e4-1336-4145-f1fb-6e109e578807"
      },
      "execution_count": null,
      "outputs": [
        {
          "output_type": "stream",
          "name": "stdout",
          "text": [
            "Module not found\n"
          ]
        }
      ]
    },
    {
      "cell_type": "code",
      "source": [
        "#ValueError Practical Example\n",
        "try:\n",
        "    number = int(\"abc\")\n",
        "except ValueError:\n",
        "    print(\"Cannot convert to integer\")"
      ],
      "metadata": {
        "id": "lYzORuAX_0Kh",
        "colab": {
          "base_uri": "https://localhost:8080/"
        },
        "outputId": "7e7ba344-872d-4b76-fb96-ae9424710d4b"
      },
      "execution_count": null,
      "outputs": [
        {
          "output_type": "stream",
          "name": "stdout",
          "text": [
            "Cannot convert to integer\n"
          ]
        }
      ]
    },
    {
      "cell_type": "code",
      "source": [
        "#TypeError  Practical Example\n",
        "try:\n",
        "    result = \"Hello\" + 5\n",
        "except TypeError:\n",
        "    print(\"Cannot add string and integer\")"
      ],
      "metadata": {
        "id": "_DfjJmDZ_8E-",
        "colab": {
          "base_uri": "https://localhost:8080/"
        },
        "outputId": "85a55597-1069-4953-eb00-15de26a4d3fd"
      },
      "execution_count": null,
      "outputs": [
        {
          "output_type": "stream",
          "name": "stdout",
          "text": [
            "Cannot add string and integer\n"
          ]
        }
      ]
    },
    {
      "cell_type": "code",
      "source": [
        "#UnboundLocalError  Practical Example\n",
        "def example_function():\n",
        "    try:\n",
        "        print(a)\n",
        "        a = 10\n",
        "    except UnboundLocalError:\n",
        "        print(\"Variable a is referenced before assignment\")\n",
        "example_function()"
      ],
      "metadata": {
        "id": "j6lzPuQx__K4",
        "colab": {
          "base_uri": "https://localhost:8080/"
        },
        "outputId": "a0f835b6-afc8-402b-c73f-f94ba02ed952"
      },
      "execution_count": null,
      "outputs": [
        {
          "output_type": "stream",
          "name": "stdout",
          "text": [
            "Variable a is referenced before assignment\n"
          ]
        }
      ]
    },
    {
      "cell_type": "markdown",
      "source": [
        "Exercises"
      ],
      "metadata": {
        "id": "dARwBlYgrk1X"
      }
    },
    {
      "cell_type": "code",
      "source": [
        "# Problem 1: Concatenate two strings provided by the user and print the result.\n",
        "\n",
        "string1 = input(\"Enter the first string: \")\n",
        "string2 = input(\"Enter the second string: \")\n",
        "print(string1 + \" \" + string2)\n",
        "\n",
        "\n"
      ],
      "metadata": {
        "id": "N9AGvRScrkZZ",
        "colab": {
          "base_uri": "https://localhost:8080/"
        },
        "outputId": "e834e9f7-de0e-4c16-b0af-874e125b8698"
      },
      "execution_count": null,
      "outputs": [
        {
          "output_type": "stream",
          "name": "stdout",
          "text": [
            "Enter the first string: apple\n",
            "Enter the second string: pie\n",
            "apple pie\n"
          ]
        }
      ]
    },
    {
      "cell_type": "code",
      "source": [
        "# Problem 2: Extract and print the first five characters and the last five characters of a given string.\n",
        "\n",
        "my_string = \"Python programming is fun!\"\n",
        "print(my_string[:6] + my_string[-5:])\n",
        "\n"
      ],
      "metadata": {
        "id": "9ZUEUadzsGft",
        "colab": {
          "base_uri": "https://localhost:8080/"
        },
        "outputId": "38e26eab-715b-40fe-e6ae-83e96446843a"
      },
      "execution_count": null,
      "outputs": [
        {
          "output_type": "stream",
          "name": "stdout",
          "text": [
            "Python fun!\n"
          ]
        }
      ]
    },
    {
      "cell_type": "code",
      "source": [
        "#Problem 3: Problem: Use the math module to calculate and print the sine of an angle (in radians) provided by the user.\n",
        "\n",
        "#https://docs.python.org/3/library/math.html\n",
        "\n",
        "import math\n",
        "result_in_degrees = math.sin(float(input(\"Enter an angle: \")))\n",
        "result_in_radians = math.radians(result_in_degrees)\n",
        "print(result_in_radians)"
      ],
      "metadata": {
        "id": "6wwsR1rzsfeq",
        "colab": {
          "base_uri": "https://localhost:8080/"
        },
        "outputId": "d65cea24-0d0f-4c7f-9f3a-231a658c2510"
      },
      "execution_count": null,
      "outputs": [
        {
          "output_type": "stream",
          "name": "stdout",
          "text": [
            "Enter an angle: 90\n",
            "0.015603185281673879\n"
          ]
        }
      ]
    },
    {
      "cell_type": "code",
      "source": [
        "#Problem 4: The following code has a bug. Find and fix it.\n",
        "\n",
        "def add_numbers(a, b):\n",
        "    return a + b\n",
        "\n",
        "result = add_numbers(10, '20')\n",
        "print(result)"
      ],
      "metadata": {
        "id": "JdstXPretHXm",
        "colab": {
          "base_uri": "https://localhost:8080/",
          "height": 315
        },
        "outputId": "d6a988ae-ca40-4685-b7be-77dce725edd6"
      },
      "execution_count": null,
      "outputs": [
        {
          "output_type": "error",
          "ename": "TypeError",
          "evalue": "unsupported operand type(s) for +: 'int' and 'str'",
          "traceback": [
            "\u001b[0;31m---------------------------------------------------------------------------\u001b[0m",
            "\u001b[0;31mTypeError\u001b[0m                                 Traceback (most recent call last)",
            "\u001b[0;32m<ipython-input-37-3effd1a88a47>\u001b[0m in \u001b[0;36m<cell line: 6>\u001b[0;34m()\u001b[0m\n\u001b[1;32m      4\u001b[0m     \u001b[0;32mreturn\u001b[0m \u001b[0ma\u001b[0m \u001b[0;34m+\u001b[0m \u001b[0mb\u001b[0m\u001b[0;34m\u001b[0m\u001b[0;34m\u001b[0m\u001b[0m\n\u001b[1;32m      5\u001b[0m \u001b[0;34m\u001b[0m\u001b[0m\n\u001b[0;32m----> 6\u001b[0;31m \u001b[0mresult\u001b[0m \u001b[0;34m=\u001b[0m \u001b[0madd_numbers\u001b[0m\u001b[0;34m(\u001b[0m\u001b[0;36m10\u001b[0m\u001b[0;34m,\u001b[0m \u001b[0;34m'20'\u001b[0m\u001b[0;34m)\u001b[0m\u001b[0;34m\u001b[0m\u001b[0;34m\u001b[0m\u001b[0m\n\u001b[0m\u001b[1;32m      7\u001b[0m \u001b[0mprint\u001b[0m\u001b[0;34m(\u001b[0m\u001b[0mresult\u001b[0m\u001b[0;34m)\u001b[0m\u001b[0;34m\u001b[0m\u001b[0;34m\u001b[0m\u001b[0m\n",
            "\u001b[0;32m<ipython-input-37-3effd1a88a47>\u001b[0m in \u001b[0;36madd_numbers\u001b[0;34m(a, b)\u001b[0m\n\u001b[1;32m      2\u001b[0m \u001b[0;34m\u001b[0m\u001b[0m\n\u001b[1;32m      3\u001b[0m \u001b[0;32mdef\u001b[0m \u001b[0madd_numbers\u001b[0m\u001b[0;34m(\u001b[0m\u001b[0ma\u001b[0m\u001b[0;34m,\u001b[0m \u001b[0mb\u001b[0m\u001b[0;34m)\u001b[0m\u001b[0;34m:\u001b[0m\u001b[0;34m\u001b[0m\u001b[0;34m\u001b[0m\u001b[0m\n\u001b[0;32m----> 4\u001b[0;31m     \u001b[0;32mreturn\u001b[0m \u001b[0ma\u001b[0m \u001b[0;34m+\u001b[0m \u001b[0mb\u001b[0m\u001b[0;34m\u001b[0m\u001b[0;34m\u001b[0m\u001b[0m\n\u001b[0m\u001b[1;32m      5\u001b[0m \u001b[0;34m\u001b[0m\u001b[0m\n\u001b[1;32m      6\u001b[0m \u001b[0mresult\u001b[0m \u001b[0;34m=\u001b[0m \u001b[0madd_numbers\u001b[0m\u001b[0;34m(\u001b[0m\u001b[0;36m10\u001b[0m\u001b[0;34m,\u001b[0m \u001b[0;34m'20'\u001b[0m\u001b[0;34m)\u001b[0m\u001b[0;34m\u001b[0m\u001b[0;34m\u001b[0m\u001b[0m\n",
            "\u001b[0;31mTypeError\u001b[0m: unsupported operand type(s) for +: 'int' and 'str'"
          ]
        }
      ]
    },
    {
      "cell_type": "markdown",
      "source": [
        "What did we get an error?"
      ],
      "metadata": {
        "id": "yq5iN4-gtNcU"
      }
    }
  ]
}